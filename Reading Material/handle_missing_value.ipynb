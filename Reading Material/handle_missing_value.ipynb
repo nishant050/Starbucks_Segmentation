{
 "cells": [
  {
   "cell_type": "code",
   "execution_count": 1,
   "id": "cc966401-e2ed-4db4-9388-835e68fdb66d",
   "metadata": {
    "tags": []
   },
   "outputs": [],
   "source": [
    "import numpy as np\n",
    "import pandas as pd\n",
    "import matplotlib.pyplot as plt\n",
    "import seaborn as sns"
   ]
  },
  {
   "cell_type": "code",
   "execution_count": 2,
   "id": "91f2c890-4539-42a9-a3f5-36db51b01a5c",
   "metadata": {
    "tags": []
   },
   "outputs": [
    {
     "data": {
      "text/html": [
       "<div>\n",
       "<style scoped>\n",
       "    .dataframe tbody tr th:only-of-type {\n",
       "        vertical-align: middle;\n",
       "    }\n",
       "\n",
       "    .dataframe tbody tr th {\n",
       "        vertical-align: top;\n",
       "    }\n",
       "\n",
       "    .dataframe thead th {\n",
       "        text-align: right;\n",
       "    }\n",
       "</style>\n",
       "<table border=\"1\" class=\"dataframe\">\n",
       "  <thead>\n",
       "    <tr style=\"text-align: right;\">\n",
       "      <th></th>\n",
       "      <th>subject_id</th>\n",
       "      <th>q1</th>\n",
       "      <th>q2</th>\n",
       "      <th>q3</th>\n",
       "      <th>q4</th>\n",
       "    </tr>\n",
       "  </thead>\n",
       "  <tbody>\n",
       "    <tr>\n",
       "      <th>0</th>\n",
       "      <td>1001</td>\n",
       "      <td>7.5</td>\n",
       "      <td>Agree</td>\n",
       "      <td>True</td>\n",
       "      <td>5</td>\n",
       "    </tr>\n",
       "    <tr>\n",
       "      <th>1</th>\n",
       "      <td>1002</td>\n",
       "      <td>4.0</td>\n",
       "      <td>Disagree</td>\n",
       "      <td>False</td>\n",
       "      <td>8</td>\n",
       "    </tr>\n",
       "    <tr>\n",
       "      <th>2</th>\n",
       "      <td>1003</td>\n",
       "      <td>-</td>\n",
       "      <td>-</td>\n",
       "      <td>-</td>\n",
       "      <td>-</td>\n",
       "    </tr>\n",
       "    <tr>\n",
       "      <th>3</th>\n",
       "      <td>1004</td>\n",
       "      <td>7.0</td>\n",
       "      <td>Strongly Agree</td>\n",
       "      <td>False</td>\n",
       "      <td>?</td>\n",
       "    </tr>\n",
       "    <tr>\n",
       "      <th>4</th>\n",
       "      <td>1005</td>\n",
       "      <td>-</td>\n",
       "      <td>Disagree</td>\n",
       "      <td>False</td>\n",
       "      <td>4</td>\n",
       "    </tr>\n",
       "    <tr>\n",
       "      <th>5</th>\n",
       "      <td>1006</td>\n",
       "      <td>5.5</td>\n",
       "      <td>Neutral</td>\n",
       "      <td>True</td>\n",
       "      <td>8</td>\n",
       "    </tr>\n",
       "    <tr>\n",
       "      <th>6</th>\n",
       "      <td>1007</td>\n",
       "      <td>8.0</td>\n",
       "      <td>Agree</td>\n",
       "      <td>-</td>\n",
       "      <td>7</td>\n",
       "    </tr>\n",
       "    <tr>\n",
       "      <th>7</th>\n",
       "      <td>1008</td>\n",
       "      <td>28.0</td>\n",
       "      <td>-</td>\n",
       "      <td>False</td>\n",
       "      <td>9</td>\n",
       "    </tr>\n",
       "    <tr>\n",
       "      <th>8</th>\n",
       "      <td>1009</td>\n",
       "      <td>-</td>\n",
       "      <td>Agree</td>\n",
       "      <td>False</td>\n",
       "      <td>12</td>\n",
       "    </tr>\n",
       "    <tr>\n",
       "      <th>9</th>\n",
       "      <td>1010</td>\n",
       "      <td>-</td>\n",
       "      <td>-</td>\n",
       "      <td>False</td>\n",
       "      <td>?</td>\n",
       "    </tr>\n",
       "  </tbody>\n",
       "</table>\n",
       "</div>"
      ],
      "text/plain": [
       "   subject_id    q1              q2     q3  q4\n",
       "0        1001   7.5           Agree   True   5\n",
       "1        1002   4.0        Disagree  False   8\n",
       "2        1003     -               -      -   -\n",
       "3        1004   7.0  Strongly Agree  False   ?\n",
       "4        1005     -        Disagree  False   4\n",
       "5        1006   5.5         Neutral   True   8\n",
       "6        1007   8.0           Agree      -   7\n",
       "7        1008  28.0               -  False   9\n",
       "8        1009     -           Agree  False  12\n",
       "9        1010     -               -  False   ?"
      ]
     },
     "metadata": {},
     "output_type": "display_data"
    }
   ],
   "source": [
    "dataset = pd.read_csv('missing_dataset.csv')\n",
    "display(dataset.head(10))"
   ]
  },
  {
   "cell_type": "code",
   "execution_count": 7,
   "id": "e027490a-b7f3-4052-a4d8-6fb1eb3646a1",
   "metadata": {
    "tags": []
   },
   "outputs": [
    {
     "name": "stdout",
     "output_type": "stream",
     "text": [
      "[['7.5' 'Agree' 'True']\n",
      " ['4.0' 'Disagree' 'False']\n",
      " ['-' '-' '-']\n",
      " ['7.0' 'Strongly Agree' 'False']\n",
      " ['-' 'Disagree' 'False']\n",
      " ['5.5' 'Neutral' 'True']\n",
      " ['8.0' 'Agree' '-']\n",
      " ['28.0' '-' 'False']\n",
      " ['-' 'Agree' 'False']\n",
      " ['-' '-' 'False']\n",
      " ['-' 'Strongly Agree' 'False']\n",
      " ['-' 'Disagree' 'True']\n",
      " ['6.5' '-' 'True']\n",
      " ['8.0' 'Disagree' 'False']\n",
      " ['8.5' 'Neutral' '2']\n",
      " ['-' 'Agree' 'False']\n",
      " ['9' '-' 'True']\n",
      " ['5.5' 'Strongly Agree' 'False']\n",
      " ['7.0' 'Disagree' 'False']\n",
      " ['8.0' 'Agree' 'True']]\n"
     ]
    }
   ],
   "source": [
    "X = dataset.iloc[:,1:-1].values\n",
    "print(X)"
   ]
  },
  {
   "cell_type": "code",
   "execution_count": 9,
   "id": "a76e97c2-29a5-4216-9910-b5756eb74e18",
   "metadata": {
    "tags": []
   },
   "outputs": [
    {
     "name": "stdout",
     "output_type": "stream",
     "text": [
      "['5' '8' '-' '?' '4' '8' '7' '9' '12' '?' '1' '9' '3' '?' '10' '5' '7' '8'\n",
      " '5' '7']\n"
     ]
    }
   ],
   "source": [
    "Y = dataset.iloc[:, 4].values\n",
    "print(Y)"
   ]
  },
  {
   "cell_type": "code",
   "execution_count": 14,
   "id": "20f759eb-826e-43ae-b0ae-2b5f074e514d",
   "metadata": {
    "tags": []
   },
   "outputs": [],
   "source": [
    "from sklearn.impute import SimpleImputer as Imputer"
   ]
  },
  {
   "cell_type": "code",
   "execution_count": null,
   "id": "ee094fd0-d636-4d25-91c1-25786566131e",
   "metadata": {},
   "outputs": [],
   "source": [
    "imputer = Imputer(missing_values = ['?','-'], strategy='mean', axis = 0)"
   ]
  },
  {
   "cell_type": "code",
   "execution_count": null,
   "id": "279f8077-8368-4cc2-ab41-814110a1e923",
   "metadata": {},
   "outputs": [],
   "source": []
  }
 ],
 "metadata": {
  "kernelspec": {
   "display_name": "Python 3 (ipykernel)",
   "language": "python",
   "name": "python3"
  },
  "language_info": {
   "codemirror_mode": {
    "name": "ipython",
    "version": 3
   },
   "file_extension": ".py",
   "mimetype": "text/x-python",
   "name": "python",
   "nbconvert_exporter": "python",
   "pygments_lexer": "ipython3",
   "version": "3.11.5"
  }
 },
 "nbformat": 4,
 "nbformat_minor": 5
}
